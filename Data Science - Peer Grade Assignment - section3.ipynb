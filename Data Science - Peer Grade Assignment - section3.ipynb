{
    "cells": [
        {
            "cell_type": "markdown",
            "metadata": {
                "collapsed": true
            },
            "source": "# Segmenting and Clustering Neighbourhoods in Toronto"
        },
        {
            "cell_type": "markdown",
            "metadata": {},
            "source": "### Section: #1 - Explore and cluster neighbourhoods in Toronto"
        },
        {
            "cell_type": "markdown",
            "metadata": {},
            "source": "Capstone project - Battle of the Neighbourhoods. This project will compare suburbs and will determine similarities based on clustering techniques using location data services.\n\nThis project uses web scraping techniques to retrieve data from the Canadian Postal Code's Wikipedia page.\n\nThe data is then acquired and cleansed in preparation for clustering.\n\nWe import a file that contains the geospatial loctions which we then merge with the post code data which enables us to visualise the data over a map of the area.\n\nWe then cluster and plot the data over the map.\n\nThe clustering is carried out by K Means and the clusters are plotted using the Folium Library.\n\nWe map the data across Toronto and then focus/cluster the data in on boroughs containing the name 'Toronto'."
        },
        {
            "cell_type": "markdown",
            "metadata": {},
            "source": "Install and import required libraries.."
        },
        {
            "cell_type": "code",
            "execution_count": null,
            "metadata": {
                "scrolled": true
            },
            "outputs": [
                {
                    "name": "stdout",
                    "output_type": "stream",
                    "text": "Requirement already satisfied: beautifulsoup4 in /opt/conda/envs/Python-3.8-main/lib/python3.8/site-packages (4.9.3)\nRequirement already satisfied: soupsieve>1.2 in /opt/conda/envs/Python-3.8-main/lib/python3.8/site-packages (from beautifulsoup4) (2.2.1)\nRequirement already satisfied: lxml in /opt/conda/envs/Python-3.8-main/lib/python3.8/site-packages (4.6.3)\nCollecting package metadata (current_repodata.json): | "
                }
            ],
            "source": "!pip install beautifulsoup4\n!pip install lxml\nimport requests # library to handle requests\nimport pandas as pd # library for data analsysis\nimport numpy as np # library to handle data in a vectorized manner\nimport random # library for random number generation\n\n#!conda install -c conda-forge geopy --yes \nfrom geopy.geocoders import Nominatim # module to convert an address into latitude and longitude values\n\n# libraries for displaying images\nfrom IPython.display import Image \nfrom IPython.core.display import HTML \n\n\nfrom IPython.display import display_html\nimport pandas as pd\nimport numpy as np\n    \n# tranforming json file into a pandas dataframe library\nfrom pandas.io.json import json_normalize\n\n!conda install -c conda-forge folium=0.5.0 --yes\nimport folium # plotting library\nfrom bs4 import BeautifulSoup\nfrom sklearn.cluster import KMeans\nimport matplotlib.cm as cm\nimport matplotlib.colors as colors"
        },
        {
            "cell_type": "markdown",
            "metadata": {},
            "source": "Setup the reference to the Postal Codes of Canada wiki page..\n\nRead in the web page and define a Beautiful Soup object for manipulation"
        },
        {
            "cell_type": "code",
            "execution_count": null,
            "metadata": {},
            "outputs": [],
            "source": "canadian_postcodes_url = 'https://en.wikipedia.org/wiki/List_of_postal_codes_of_Canada:_M'\ncanadian_postcodes = requests.get(canadian_postcodes_url).text\nsoup = BeautifulSoup(canadian_postcodes, \"html5lib\")\n"
        },
        {
            "cell_type": "markdown",
            "metadata": {},
            "source": "lets find the tables within the web page"
        },
        {
            "cell_type": "code",
            "execution_count": null,
            "metadata": {},
            "outputs": [],
            "source": "table_contents = []\ncanadian_postcodes_table = soup.find(\"table\")"
        },
        {
            "cell_type": "markdown",
            "metadata": {},
            "source": "Lets take a look at the raw html table.."
        },
        {
            "cell_type": "code",
            "execution_count": null,
            "metadata": {},
            "outputs": [],
            "source": "canadian_postcodes_table"
        },
        {
            "cell_type": "markdown",
            "metadata": {},
            "source": "we're going to wrangle the data into a dataframe consisting of 3 columns..\n\nPostalCode, Borough, Neighborhood\n\nAnd we're going to remove those cells that contain Not Assigned, merge neighborhoods into a single postal code area and remove the duplicate postal codes"
        },
        {
            "cell_type": "code",
            "execution_count": null,
            "metadata": {},
            "outputs": [],
            "source": "for row in canadian_postcodes_table.findAll('td'):\n    cell = {}\n    if row.span.text=='Not assigned':\n        pass #ignore these ones\n    else:\n        cell['PostalCode'] = row.p.text[:3]\n        cell['Borough'] = (row.span.text).split('(')[0]\n        cell['Neighborhood'] = (((((row.span.text).split('(')[1]).strip(')')).replace(' /',',')).replace(')',' ')).strip(' ')\n        table_contents.append(cell)\n\n# print(table_contents)\n\n#merge neighborhoods\ndf=pd.DataFrame(table_contents)\ndf['Borough']=df['Borough'].replace({'Downtown TorontoStn A PO Boxes25 The Esplanade':'Downtown Toronto Stn A',\n                                             'East TorontoBusiness reply mail Processing Centre969 Eastern':'East Toronto Business',\n                                             'EtobicokeNorthwest':'Etobicoke Northwest','East YorkEast Toronto':'East York/East Toronto',\n                                             'MississaugaCanada Post Gateway Processing Centre':'Mississauga'})\n\n#remove duplicate values - some postal code area have multiple neighbourhoods i.e.M5A\npostcode_data = df.drop_duplicates()\n\n#check de-duped\n#postcode_data.loc[df['PostalCode'] == 'M5A']\n\n"
        },
        {
            "cell_type": "markdown",
            "metadata": {},
            "source": "view the data"
        },
        {
            "cell_type": "code",
            "execution_count": null,
            "metadata": {},
            "outputs": [],
            "source": "postcode_data"
        },
        {
            "cell_type": "markdown",
            "metadata": {},
            "source": "Answer for Section 1 - In the last cell of your notebook, use the .shape method to print the number of rows of your dataframe.\n\nprint the number of rows in the data"
        },
        {
            "cell_type": "code",
            "execution_count": null,
            "metadata": {},
            "outputs": [],
            "source": "postcode_data.shape"
        },
        {
            "cell_type": "markdown",
            "metadata": {},
            "source": "###Section: #2 - combining the Postal Code data with Geospatial data\n"
        },
        {
            "cell_type": "markdown",
            "metadata": {},
            "source": "Reading the Geospatial_Coordinates csv file from notebook project assets.... tried using the Geocoder package, but received errors, so CSV it is...\n\nthis cell will be hidden, however the data is read into a dataframe named geospatial_data and it will be referenced later in the notebook"
        },
        {
            "cell_type": "code",
            "execution_count": null,
            "metadata": {},
            "outputs": [],
            "source": "# The code was removed by Watson Studio for sharing."
        },
        {
            "cell_type": "markdown",
            "metadata": {},
            "source": "Lets review the Geospatial data"
        },
        {
            "cell_type": "code",
            "execution_count": null,
            "metadata": {},
            "outputs": [],
            "source": "geospatial_data"
        },
        {
            "cell_type": "markdown",
            "metadata": {},
            "source": "print the number of rows in the data"
        },
        {
            "cell_type": "code",
            "execution_count": null,
            "metadata": {},
            "outputs": [],
            "source": "geospatial_data.shape"
        },
        {
            "cell_type": "markdown",
            "metadata": {},
            "source": "We're going to merge (or join) the post code data and the geospatial data so that we can link up the latitudes and longitudes for the neighbourhoods in Canada."
        },
        {
            "cell_type": "code",
            "execution_count": null,
            "metadata": {},
            "outputs": [],
            "source": "geospatial_data.rename(columns={'Postal Code':'PostalCode'},inplace=True)\nmerged_geospatial_data = pd.merge(postcode_data,geospatial_data,on='PostalCode')\n"
        },
        {
            "cell_type": "markdown",
            "metadata": {},
            "source": "Answer for Section 2 - output the dataframe data as per the example"
        },
        {
            "cell_type": "code",
            "execution_count": null,
            "metadata": {},
            "outputs": [],
            "source": "merged_geospatial_data.head(12)"
        },
        {
            "cell_type": "markdown",
            "metadata": {},
            "source": "###Section: #3 - Explore and cluster the neighborhoods in Toronto\n"
        },
        {
            "cell_type": "markdown",
            "metadata": {},
            "source": "lets do some quick analysis around the data, how many boroughs and neighborhoods are there in the data.."
        },
        {
            "cell_type": "code",
            "execution_count": null,
            "metadata": {},
            "outputs": [],
            "source": "print('The dataframe has {} boroughs and {} neighbourhoods.'.format(\n        len(merged_geospatial_data['Borough'].unique()),\n        merged_geospatial_data.shape[0]\n    )\n)\n"
        },
        {
            "cell_type": "markdown",
            "metadata": {},
            "source": "Use geopy library to get the lattitude and longitude of Toronto"
        },
        {
            "cell_type": "code",
            "execution_count": null,
            "metadata": {},
            "outputs": [],
            "source": "address = 'Toronto, Ontario'\n\ngeolocator = Nominatim(user_agent=\"ny_explorer\")\nlocation = geolocator.geocode(address)\nlatitude = location.latitude\nlongitude = location.longitude\nprint('The geograpical coordinate of Toronto, Ontario are {}, {}.'.format(latitude, longitude))\n\n"
        },
        {
            "cell_type": "markdown",
            "metadata": {},
            "source": "lets visualise the data over a map of Toronto, Ontario"
        },
        {
            "cell_type": "code",
            "execution_count": null,
            "metadata": {},
            "outputs": [],
            "source": "toronto_data = merged_geospatial_data"
        },
        {
            "cell_type": "code",
            "execution_count": null,
            "metadata": {},
            "outputs": [],
            "source": "# create map of Toronto using latitude and longitude values\nmap_toronto = folium.Map(location=[latitude, longitude], zoom_start=10)\n\n# add markers to map\nfor lat, lng, borough, neighborhood in zip(toronto_data['Latitude'], toronto_data['Longitude'], toronto_data['Borough'], toronto_data['Neighborhood']):\n    label = '{}, {}'.format(neighborhood, borough)\n    label = folium.Popup(label, parse_html=True)\n    folium.CircleMarker(\n        [lat, lng],\n        radius=5,\n        popup=label,\n        color='blue',\n        fill=True,\n        fill_color='#3186cc',\n        fill_opacity=0.7,\n        parse_html=False).add_to(map_toronto)  \n    \nmap_toronto"
        },
        {
            "cell_type": "markdown",
            "metadata": {},
            "source": "Lets segment and cluster only the neighborhoods that contain \"toronto\" in their name"
        },
        {
            "cell_type": "code",
            "execution_count": null,
            "metadata": {},
            "outputs": [],
            "source": "toronto_boroughs_data = merged_geospatial_data[merged_geospatial_data['Borough'].str.contains('Toronto',regex=False)]\ntoronto_boroughs_data\n"
        },
        {
            "cell_type": "code",
            "execution_count": null,
            "metadata": {},
            "outputs": [],
            "source": ""
        },
        {
            "cell_type": "code",
            "execution_count": null,
            "metadata": {},
            "outputs": [],
            "source": "# create map of Toronto using latitude and longitude values\nmap_toronto_boroughs = folium.Map(location=[latitude, longitude], zoom_start=10)\n\n# add markers to map\nfor lat, lng, borough, neighborhood in zip(toronto_boroughs_data['Latitude'], toronto_boroughs_data['Longitude'], toronto_boroughs_data['Borough'], toronto_boroughs_data['Neighborhood']):\n    label = '{}, {}'.format(neighborhood, borough)\n    label = folium.Popup(label, parse_html=True)\n    folium.CircleMarker(\n        [lat, lng],\n        radius=5,\n        popup=label,\n        color='blue',\n        fill=True,\n        fill_color='#3186cc',\n        fill_opacity=0.7,\n        parse_html=False).add_to(map_toronto_boroughs)  \n    \nmap_toronto_boroughs"
        },
        {
            "cell_type": "markdown",
            "metadata": {},
            "source": "define K Means cluster on the boroughs of Toronto"
        },
        {
            "cell_type": "code",
            "execution_count": null,
            "metadata": {},
            "outputs": [],
            "source": "k=5\ntoronto_clustering = toronto_boroughs_data.drop(['PostalCode','Borough','Neighborhood'],1)\nkmeans = KMeans(n_clusters = k,random_state=0).fit(toronto_clustering)\nkmeans.labels_\ntoronto_boroughs_data.insert(0, 'Cluster Labels', kmeans.labels_)"
        },
        {
            "cell_type": "markdown",
            "metadata": {},
            "source": "view the clustered table"
        },
        {
            "cell_type": "code",
            "execution_count": null,
            "metadata": {},
            "outputs": [],
            "source": "toronto_boroughs_data"
        },
        {
            "cell_type": "markdown",
            "metadata": {},
            "source": "visualise the clusters over the map"
        },
        {
            "cell_type": "code",
            "execution_count": null,
            "metadata": {},
            "outputs": [],
            "source": "# create map\nmap_toronto_clusters = folium.Map(location=[latitude, longitude], zoom_start=10)\n\n# set color scheme for the clusters\nx = np.arange(k)\nys = [i + x + (i*x)**2 for i in range(k)]\ncolors_array = cm.rainbow(np.linspace(0, 1, len(ys)))\nrainbow = [colors.rgb2hex(i) for i in colors_array]\n\n# add markers to the map\nmarkers_colors = []\nfor lat, lon, neighbourhood, cluster in zip(toronto_boroughs_data['Latitude'], toronto_boroughs_data['Longitude'], toronto_boroughs_data['Neighborhood'], toronto_boroughs_data['Cluster Labels']):\n    label = folium.Popup(' Cluster ' + str(cluster), parse_html=True)\n    folium.CircleMarker(\n        [lat, lon],\n        radius=5,\n        popup=label,\n        color=rainbow[cluster-1],\n        fill=True,\n        fill_color=rainbow[cluster-1],\n        fill_opacity=0.7).add_to(map_toronto_clusters)\n       \nmap_toronto_clusters"
        },
        {
            "cell_type": "code",
            "execution_count": null,
            "metadata": {},
            "outputs": [],
            "source": ""
        }
    ],
    "metadata": {
        "kernelspec": {
            "display_name": "Python 3.8",
            "language": "python",
            "name": "python3"
        },
        "language_info": {
            "codemirror_mode": {
                "name": "ipython",
                "version": 3
            },
            "file_extension": ".py",
            "mimetype": "text/x-python",
            "name": "python",
            "nbconvert_exporter": "python",
            "pygments_lexer": "ipython3",
            "version": "3.8.10"
        }
    },
    "nbformat": 4,
    "nbformat_minor": 1
}